{
 "cells": [
  {
   "cell_type": "markdown",
   "id": "bf460410",
   "metadata": {
    "nbgrader": {
     "grade": false,
     "grade_id": "cell-3d87512d8812dae8",
     "locked": true,
     "schema_version": 3,
     "solution": false,
     "task": false
    }
   },
   "source": [
    "# 19CSE367-DIP \n",
    "## Programming Task 3\n",
    "\n",
    "##### In this assigment you will work with basic image read and write operations using opencv and scikit image libraries"
   ]
  },
  {
   "cell_type": "markdown",
   "id": "ad2c8f67",
   "metadata": {
    "nbgrader": {
     "grade": false,
     "grade_id": "cell-a224f16e87b448ac",
     "locked": true,
     "schema_version": 3,
     "solution": false,
     "task": false
    }
   },
   "source": [
    "First  we will start with open cv. Run the cell below to check if open cv is installed in your machine. if not the cell will automatically download the package and install it. \n",
    "In this case you need to restart the kernel."
   ]
  },
  {
   "cell_type": "code",
   "execution_count": null,
   "id": "e93074f8",
   "metadata": {
    "nbgrader": {
     "grade": false,
     "grade_id": "cell-2c3d3029bde1d482",
     "locked": true,
     "schema_version": 3,
     "solution": false,
     "task": false
    }
   },
   "outputs": [],
   "source": [
    "try:\n",
    "    import cv2\n",
    "except:\n",
    "    !pip install opencv-python"
   ]
  },
  {
   "cell_type": "code",
   "execution_count": null,
   "id": "84c0367e",
   "metadata": {
    "nbgrader": {
     "grade": false,
     "grade_id": "cell-cdd3a40bb8467697",
     "locked": true,
     "schema_version": 3,
     "solution": false,
     "task": false
    }
   },
   "outputs": [],
   "source": [
    "import cv2"
   ]
  },
  {
   "cell_type": "code",
   "execution_count": null,
   "id": "c709f7c6",
   "metadata": {
    "nbgrader": {
     "grade": false,
     "grade_id": "cell-20f68321026ce335",
     "locked": false,
     "schema_version": 3,
     "solution": true,
     "task": false
    }
   },
   "outputs": [],
   "source": [
    "#Read the image \"monalisa.jpg\" as color image and save it in variable img_ocv_clr\n",
    "### BEGIN SOLUTION\n",
    "img_ocv_clr=cv2.imread('monalisa.jpg')\n",
    "### END SOLUTION"
   ]
  },
  {
   "cell_type": "code",
   "execution_count": null,
   "id": "9e25453e",
   "metadata": {
    "nbgrader": {
     "grade": true,
     "grade_id": "cell-f3075d5bb5e1c596",
     "locked": true,
     "points": 1,
     "schema_version": 3,
     "solution": false,
     "task": false
    }
   },
   "outputs": [],
   "source": [
    "\"\"\" Check if the proper image was read for the task\"\"\"\n",
    "assert img_ocv_clr.shape==(256, 256, 3)\n",
    "assert img_ocv_clr.size== 196608\n",
    "assert img_ocv_clr.ndim==3\n",
    "assert img_ocv_clr.dtype == 'uint8'\n",
    "### BEGIN HIDDEN TESTS\n",
    "assert img_ocv_clr[255][250][0]==63\n",
    "### END HIDDEN TESTS"
   ]
  },
  {
   "cell_type": "code",
   "execution_count": null,
   "id": "1d33c9c4",
   "metadata": {
    "nbgrader": {
     "grade": false,
     "grade_id": "cell-e3c661a70f87deca",
     "locked": false,
     "schema_version": 3,
     "solution": true,
     "task": false
    }
   },
   "outputs": [],
   "source": [
    "#Read the image \"monalisa.jpg\" as grayscale image and save it in variable img_ocv_gray\n",
    "### BEGIN SOLUTION\n",
    "img_ocv_gray=cv2.imread('monalisa.jpg',0)\n",
    "### END SOLUTION"
   ]
  },
  {
   "cell_type": "code",
   "execution_count": null,
   "id": "b9a63779",
   "metadata": {
    "nbgrader": {
     "grade": true,
     "grade_id": "cell-75370523605087b7",
     "locked": true,
     "points": 1,
     "schema_version": 3,
     "solution": false,
     "task": false
    }
   },
   "outputs": [],
   "source": [
    "\"\"\" Check if the proper image was read for the task\"\"\"\n",
    "assert img_ocv_gray.shape==(256, 256)\n",
    "assert img_ocv_gray.size== 65536\n",
    "assert img_ocv_gray.ndim==2\n",
    "assert img_ocv_gray.dtype == 'uint8'\n",
    "### BEGIN HIDDEN TESTS\n",
    "assert img_ocv_gray[55][100]==179\n",
    "### END HIDDEN TESTS"
   ]
  },
  {
   "cell_type": "markdown",
   "id": "d08881b5",
   "metadata": {
    "nbgrader": {
     "grade": false,
     "grade_id": "cell-6ba34bcfe9a53329",
     "locked": true,
     "schema_version": 3,
     "solution": false,
     "task": false
    }
   },
   "source": [
    "Lets move on to Scikit image library.Run the cell below to check if scikit image is installed in your machine. if not the cell will automatically download the package and install it. "
   ]
  },
  {
   "cell_type": "code",
   "execution_count": null,
   "id": "ef85e663",
   "metadata": {
    "nbgrader": {
     "grade": false,
     "grade_id": "cell-ae60813f629f83c5",
     "locked": true,
     "schema_version": 3,
     "solution": false,
     "task": false
    }
   },
   "outputs": [],
   "source": [
    "try:\n",
    "    import skimage\n",
    "except:\n",
    "    !pip install scikit-image\n",
    "    "
   ]
  },
  {
   "cell_type": "code",
   "execution_count": null,
   "id": "8a839423",
   "metadata": {
    "nbgrader": {
     "grade": false,
     "grade_id": "cell-b60fa64d938aa3e0",
     "locked": true,
     "schema_version": 3,
     "solution": false,
     "task": false
    }
   },
   "outputs": [],
   "source": [
    "# import the scikit image lib or specific module used for reading an image\n",
    "from skimage import io"
   ]
  },
  {
   "cell_type": "code",
   "execution_count": null,
   "id": "dae55528",
   "metadata": {
    "nbgrader": {
     "grade": false,
     "grade_id": "cell-fd4d3f40b78035b1",
     "locked": false,
     "schema_version": 3,
     "solution": true,
     "task": false
    }
   },
   "outputs": [],
   "source": [
    "#Read the image \"monalisa.jpg\" as color image and save it in variable img_sk_clr\n",
    "### BEGIN SOLUTION\n",
    "img_sk_clr=io.imread(\"monalisa.jpg\",)\n",
    "### END SOLUTION"
   ]
  },
  {
   "cell_type": "code",
   "execution_count": null,
   "id": "3b40203e",
   "metadata": {
    "nbgrader": {
     "grade": true,
     "grade_id": "cell-3b18662c28e35a44",
     "locked": true,
     "points": 2,
     "schema_version": 3,
     "solution": false,
     "task": false
    }
   },
   "outputs": [],
   "source": [
    "\"\"\" Check if the proper image was read for the task\"\"\"\n",
    "assert img_sk_clr.shape==(256, 256, 3)\n",
    "assert img_sk_clr.size== 196608\n",
    "assert img_sk_clr.ndim==3\n",
    "assert img_sk_clr.dtype == 'uint8'\n",
    "### BEGIN HIDDEN TESTS\n",
    "assert img_sk_clr[255][250][0]==60\n",
    "### END HIDDEN TESTS"
   ]
  },
  {
   "cell_type": "code",
   "execution_count": null,
   "id": "5a3a7ce7",
   "metadata": {
    "nbgrader": {
     "grade": false,
     "grade_id": "cell-3839347599835791",
     "locked": false,
     "schema_version": 3,
     "solution": true,
     "task": false
    }
   },
   "outputs": [],
   "source": [
    "#Read the image \"monalisa.jpg\" as grayscale image and save it in variable img_sk_gray\n",
    "#hint : Look into the documentation for imread from scikit image, there is an argument which enables reading images as grayscale\n",
    "### BEGIN SOLUTION\n",
    "img_sk_gray=io.imread('monalisa.jpg',as_gray=True)\n",
    "### END SOLUTION"
   ]
  },
  {
   "cell_type": "code",
   "execution_count": null,
   "id": "83cdf80d",
   "metadata": {
    "nbgrader": {
     "grade": true,
     "grade_id": "cell-8008023df1ba6439",
     "locked": true,
     "points": 2,
     "schema_version": 3,
     "solution": false,
     "task": false
    }
   },
   "outputs": [],
   "source": [
    "\"\"\" Check if the proper image was read for the task\"\"\"\n",
    "assert img_sk_gray.shape==(256, 256)\n",
    "assert img_sk_gray.size== 65536\n",
    "assert img_sk_gray.ndim==2\n",
    "assert img_sk_gray.dtype == 'float64'\n",
    "### BEGIN HIDDEN TESTS\n",
    "assert img_sk_gray[255][6]==0.19900039215686274\n",
    "### END HIDDEN TESTS"
   ]
  },
  {
   "cell_type": "markdown",
   "id": "c92e0249",
   "metadata": {
    "nbgrader": {
     "grade": false,
     "grade_id": "cell-61f55478adb619e1",
     "locked": true,
     "schema_version": 3,
     "solution": false,
     "task": false
    }
   },
   "source": [
    "### Color space conversion"
   ]
  },
  {
   "cell_type": "code",
   "execution_count": null,
   "id": "554139cd",
   "metadata": {
    "nbgrader": {
     "grade": false,
     "grade_id": "cell-8bf92a395041a427",
     "locked": true,
     "schema_version": 3,
     "solution": false,
     "task": false
    }
   },
   "outputs": [],
   "source": [
    "# run this cell to install imagecodecs else you may get  error while working with tif file. \n",
    "\n",
    "pip install imagecodecs\n",
    "#!pip install imagecodecs"
   ]
  },
  {
   "cell_type": "code",
   "execution_count": null,
   "id": "10c42f2f",
   "metadata": {
    "nbgrader": {
     "grade": false,
     "grade_id": "cell-f6f7c331fea5aca9",
     "locked": true,
     "schema_version": 3,
     "solution": false,
     "task": false
    }
   },
   "outputs": [],
   "source": [
    "import cv2\n",
    "from skimage import io\n",
    "\n",
    "img_ocv_clr=cv2.imread('img1.tif')# BGR\n",
    "img_sk_clr=io.imread(\"img1.tif\") # RGB"
   ]
  },
  {
   "cell_type": "code",
   "execution_count": null,
   "id": "b750a494",
   "metadata": {
    "nbgrader": {
     "grade": false,
     "grade_id": "cell-5a55d6c11afabe50",
     "locked": false,
     "schema_version": 3,
     "solution": true,
     "task": false
    }
   },
   "outputs": [],
   "source": [
    "#Convert the imgage loaded using scikit image(img_sk_clr) to BGR color space \n",
    "# save the converted image in  img_sk_clr_BGR variable\n",
    "# note that images loaded using scikit is in RGB format whereas images loaded using open cv is BGR\n",
    "# Note - use cvtColor function for this task\n",
    "### BEGIN SOLUTION\n",
    "img_sk_clr_BGR=cv2.cvtColor(img_sk_clr,cv2.COLOR_RGB2BGR)\n",
    "### END SOLUTION"
   ]
  },
  {
   "cell_type": "code",
   "execution_count": null,
   "id": "66b103e4",
   "metadata": {
    "nbgrader": {
     "grade": true,
     "grade_id": "cell-aba23d978c2cace8",
     "locked": true,
     "points": 2,
     "schema_version": 3,
     "solution": false,
     "task": false
    }
   },
   "outputs": [],
   "source": [
    "\"\"\" Check if the right conversion was done or not\"\"\"\n",
    "assert img_sk_clr_BGR[0][0][0] != img_sk_clr[0][0][0]\n",
    "assert img_sk_clr_BGR[0][0][0]==img_ocv_clr[0][0][0]\n",
    "### BEGIN HIDDEN TESTS\n",
    "assert (img_sk_clr_BGR == img_ocv_clr).all()\n",
    "### END HIDDEN TESTS"
   ]
  },
  {
   "cell_type": "markdown",
   "id": "1195a442",
   "metadata": {
    "nbgrader": {
     "grade": false,
     "grade_id": "cell-efaeca385b7c53bb",
     "locked": true,
     "schema_version": 3,
     "solution": false,
     "task": false
    }
   },
   "source": [
    "## Writing an image into file"
   ]
  },
  {
   "cell_type": "code",
   "execution_count": 1,
   "id": "ea154612",
   "metadata": {
    "nbgrader": {
     "grade": false,
     "grade_id": "cell-7df91cc072ca0301",
     "locked": false,
     "schema_version": 3,
     "solution": true,
     "task": false
    }
   },
   "outputs": [],
   "source": [
    "import cv2\n",
    "# load the image monalis.jpg as gray scale image using open cv and save it in variable img_ocv_gs\n",
    "\n",
    "### BEGIN SOLUTION\n",
    "img_ocv_gs=cv2.imread('monalisa.jpg',0)\n",
    "### END SOLUTION"
   ]
  },
  {
   "cell_type": "code",
   "execution_count": 2,
   "id": "aba95622",
   "metadata": {
    "nbgrader": {
     "grade": false,
     "grade_id": "cell-5ff056e94ed94cd9",
     "locked": true,
     "schema_version": 3,
     "solution": false,
     "task": false
    }
   },
   "outputs": [],
   "source": [
    "# this operation is for generating the negative of a 8 bit image.\n",
    "neg_image=255-img_ocv_gs"
   ]
  },
  {
   "cell_type": "code",
   "execution_count": 3,
   "id": "eba1ba87",
   "metadata": {
    "nbgrader": {
     "grade": false,
     "grade_id": "cell-e2cc5c52d6379151",
     "locked": false,
     "schema_version": 3,
     "solution": true,
     "task": false
    }
   },
   "outputs": [
    {
     "data": {
      "text/plain": [
       "True"
      ]
     },
     "execution_count": 3,
     "metadata": {},
     "output_type": "execute_result"
    }
   ],
   "source": [
    "# Using  opencv write the gray scale version of monalisa to file with name \"gs_monalisa.jpg\"\n",
    "### BEGIN SOLUTION\n",
    "cv2.imwrite(\"gs_monalisa.jpg\",img_ocv_gs)\n",
    "### END SOLUTION"
   ]
  },
  {
   "cell_type": "code",
   "execution_count": 4,
   "id": "bd2699a4",
   "metadata": {
    "nbgrader": {
     "grade": false,
     "grade_id": "cell-79a6e8d0e6b16046",
     "locked": false,
     "schema_version": 3,
     "solution": true,
     "task": false
    }
   },
   "outputs": [
    {
     "data": {
      "text/plain": [
       "True"
      ]
     },
     "execution_count": 4,
     "metadata": {},
     "output_type": "execute_result"
    }
   ],
   "source": [
    "# Using  opencv write the negative image of gray scale monalisa to file with name \"neg_monalisa.jpg\"\n",
    "### BEGIN SOLUTION\n",
    "cv2.imwrite(\"neg_monalisa.jpg\",neg_image)\n",
    "### END SOLUTION"
   ]
  },
  {
   "cell_type": "code",
   "execution_count": 9,
   "id": "75bd141b",
   "metadata": {
    "nbgrader": {
     "grade": true,
     "grade_id": "cell-8a8d4166e93f76c2",
     "locked": true,
     "points": 2,
     "schema_version": 3,
     "solution": false,
     "task": false
    }
   },
   "outputs": [],
   "source": [
    "\"\"\" Check if the writing of image is properly done\"\"\"\n",
    "img_test=cv2.imread('monalisa.jpg')\n",
    "img_test_gs=cv2.imread('gs_monalisa.jpg',0)\n",
    "img_test_neg=cv2.imread('neg_monalisa.jpg',0)\n",
    "\n",
    "assert img_test.shape != img_test_gs.shape\n",
    "assert img_test_gs.shape==(256,256)\n",
    "### BEGIN HIDDEN TESTS\n",
    "assert img_test_neg[11][15]== 255-img_test_gs[11][15]\n",
    "### END HIDDEN TESTS"
   ]
  }
 ],
 "metadata": {
  "celltoolbar": "Create Assignment",
  "kernelspec": {
   "display_name": "Python 3 (ipykernel)",
   "language": "python",
   "name": "python3"
  },
  "language_info": {
   "codemirror_mode": {
    "name": "ipython",
    "version": 3
   },
   "file_extension": ".py",
   "mimetype": "text/x-python",
   "name": "python",
   "nbconvert_exporter": "python",
   "pygments_lexer": "ipython3",
   "version": "3.10.1"
  }
 },
 "nbformat": 4,
 "nbformat_minor": 5
}
